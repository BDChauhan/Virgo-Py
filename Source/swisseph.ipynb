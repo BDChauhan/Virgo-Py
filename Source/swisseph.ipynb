{
 "cells": [
  {
   "cell_type": "code",
   "execution_count": 322,
   "metadata": {
    "collapsed": false
   },
   "outputs": [],
   "source": [
    "import swisseph as swe\n",
    "from __future__ import division\n",
    "from math import floor, ceil\n",
    "from collections import namedtuple as struct\n"
   ]
  },
  {
   "cell_type": "code",
   "execution_count": 323,
   "metadata": {
    "collapsed": true
   },
   "outputs": [],
   "source": [
    "PLANETS = {\n",
    "    \"Sun\": swe.SUN,\n",
    "    \"Moon\": swe.MOON,\n",
    "    \"Mercury\": swe.MERCURY,\n",
    "    \"Venus\": swe.VENUS,\n",
    "    \"Mars\": swe.MARS,\n",
    "    \"Jupiter\": swe.JUPITER,\n",
    "    \"Saturn\": swe.SATURN,\n",
    "    \"Rahu\": swe.MEAN_NODE\n",
    "}\n",
    "ASPECT_SYMBOLS = {\n",
    "    \"Conjunction\": \"\\u260C\",\n",
    "    \"Semi-Sextile\": \"\\u26BA\",\n",
    "    \"Semi-Square\": \"\\u2220\",\n",
    "    \"Sextile\": \"\\u26B9\",\n",
    "    \"Quintile\": \"Q\",\n",
    "    \"Square\": \"\\u25A1\",\n",
    "    \"Trine\": \"\\u25B3\",\n",
    "    \"Sesquiquadrate\": \"\\u26BC\",\n",
    "    \"BiQuintile\": \"bQ\",\n",
    "    \"Quincunx\": \"\\u26BB\",\n",
    "    \"Opposite\": \"\\u260D\",\n",
    "}"
   ]
  },
  {
   "cell_type": "code",
   "execution_count": 324,
   "metadata": {
    "collapsed": true
   },
   "outputs": [],
   "source": [
    "def convert_angle(angle):\n",
    "        if 0 < angle < 30:\n",
    "            return angle, \"Aries\"\n",
    "        elif 30 <= angle < 60:\n",
    "            return angle - 30, \"Taurus\"\n",
    "        elif 60 <= angle < 90:\n",
    "            return angle - 60, \"Gemini\"\n",
    "        elif 90 <= angle < 120:\n",
    "            return angle - 90, \"Cancer\"\n",
    "        elif 120 <= angle < 150:\n",
    "            return angle - 120, \"Leo\"\n",
    "        elif 150 <= angle < 180:\n",
    "            return angle - 150, \"Virgo\"\n",
    "        elif 180 <= angle < 210:\n",
    "            return angle - 180, \"Libra\"\n",
    "        elif 210 <= angle < 240:\n",
    "            return angle - 210, \"Scorpio\"\n",
    "        elif 240 <= angle < 270:\n",
    "            return angle - 240, \"Sagittarius\"\n",
    "        elif 270 <= angle < 300:\n",
    "            return angle - 270, \"Capricorn\"\n",
    "        elif 300 <= angle < 330:\n",
    "            return angle - 300, \"Aquarius\"\n",
    "        elif 330 <= angle < 360:\n",
    "            return angle - 330, \"Pisces\""
   ]
  },
  {
   "cell_type": "code",
   "execution_count": 347,
   "metadata": {
    "collapsed": false
   },
   "outputs": [],
   "source": [
    "Date = struct('Date', ['year', 'month', 'day', 'hour','greg'])\n",
    "Place = struct('Location', ['latitude', 'longitude'])\n",
    "\n",
    "#kkd = Place(16.989, 82.247)  => 16.989 82.247\n",
    "#dtR = swe.utc_to_jd(1993, 9, 16,12,25,0,1) => 1993 09 16 17 55 00\n",
    "#print(kkd)"
   ]
  },
  {
   "cell_type": "code",
   "execution_count": 363,
   "metadata": {
    "collapsed": false
   },
   "outputs": [],
   "source": [
    "import datetime\n",
    "import pytz\n",
    "def getTZ(Lat,Lon):\n",
    "    from tzwhere import tzwhere\n",
    "    tzwhere = tzwhere.tzwhere()\n",
    "    timezone_str = tzwhere.tzNameAt(float(kkd[0]), float(kkd[1])) # Seville coordinates\n",
    "    return timezone_str\n",
    "#> Europe/Madrid\n",
    "\n",
    "    "
   ]
  },
  {
   "cell_type": "code",
   "execution_count": 364,
   "metadata": {
    "collapsed": false
   },
   "outputs": [
    {
     "name": "stdout",
     "output_type": "stream",
     "text": [
      "LAT LON : 16.989 82.247\n",
      "YYYY MM DD HH MM SS : 1993 09 16 17 55 00\n",
      "1993:09:16:12:25:00\n"
     ]
    }
   ],
   "source": [
    "#Takes Input\n",
    "\n",
    "Lat,Lon = input(\"LAT LON : \").split()\n",
    "DY,DMon,DD,DH,DMin,DS = input(\"YYYY MM DD HH MM SS : \").split()\n",
    "naive = datetime.datetime.strptime (DY+\"-\"+DMon+\"-\"+DD+\" \"+DH+\":\"+DMin+\":\"+DS, \"%Y-%m-%d %H:%M:%S\")\n",
    "local = pytz.timezone (getTZ(float(Lat),float(Lon)))\n",
    "local_dt = local.localize(naive, is_dst=None)\n",
    "utc_dt = local_dt.astimezone(pytz.utc)\n",
    "utc_dt = utc_dt.strftime (\"%Y:%m:%d:%H:%M:%S\")\n",
    "DY,DMon,DD,DH,DMin,DS = utc_dt.split(\":\")\n",
    "kkd = Place(float(Lat),float(Lon))\n",
    "dtR = swe.utc_to_jd(int(DY),int(DMon),int(DD),int(DH),int(DMin),int(DS),1)\n",
    "print(utc_dt)\n"
   ]
  },
  {
   "cell_type": "code",
   "execution_count": 365,
   "metadata": {
    "collapsed": true
   },
   "outputs": [],
   "source": [
    "#def decdeg2dms(dd):\n",
    "def decdeg2dms(deg):\n",
    "  d = int(deg)\n",
    "  mins = (deg - d) * 60\n",
    "  m = int(mins)\n",
    "  s = int(round((mins - m) * 60))\n",
    "  return [d, m, s]"
   ]
  },
  {
   "cell_type": "code",
   "execution_count": 376,
   "metadata": {
    "collapsed": false
   },
   "outputs": [
    {
     "name": "stdout",
     "output_type": "stream",
     "text": [
      "Sun in Leo\n",
      "ACTUAL     :149°  52′ 34″ \n",
      "CALC       :29°  52′ 34″ \n",
      "Jupiter in Virgo\n",
      "ACTUAL     :174°  27′ 57″ \n",
      "CALC       :24°  27′ 57″ \n",
      "Venus in Leo\n",
      "ACTUAL     :120°  3′ 14″ \n",
      "CALC       :0°  3′ 14″ \n",
      "Mars in Virgo\n",
      "ACTUAL     :179°  9′ 2″ \n",
      "CALC       :29°  9′ 2″ \n",
      "Moon in Virgo\n",
      "ACTUAL     :155°  24′ 4″ \n",
      "CALC       :5°  24′ 4″ \n",
      "Saturn in Aquarius\n",
      "ACTUAL     :301°  14′ 7″ \n",
      "CALC       :1°  14′ 7″ \n",
      "Mercury in Virgo\n",
      "ACTUAL     :164°  34′ 38″ \n",
      "CALC       :14°  34′ 38″ \n",
      "Rahu in Scorpio\n",
      "ACTUAL     :222°  57′ 44″ \n",
      "CALC       :12°  57′ 44″ \n",
      "\n",
      "Aquarius Ascendant:28° 57′ 50″\n"
     ]
    }
   ],
   "source": [
    "swe.set_ephe_path('Files')\n",
    "#swe.set_topo(12.9667, 77.5667, 0);\n",
    "swe.set_sid_mode(swe.SIDM_LAHIRI, 0, 0);\n",
    "\n",
    "for key in PLANETS:\n",
    "    \n",
    "    output = swe.calc_ut(dtR[0], PLANETS[key], flag = swe.FLG_SWIEPH | swe.FLG_SIDEREAL | swe.FLG_SPEED)\n",
    "    ActualDegrees = decdeg2dms((output[0]))\n",
    "    #print(output)\n",
    "    print (key + \" in \" + convert_angle(ActualDegrees[0])[1])\n",
    "    print(\"ACTUAL     :\"+str(ActualDegrees[0])+\"°  \"+str(ActualDegrees[1])+\"′ \"+str(ActualDegrees[2])+\"″ \")\n",
    "    print(\"CALC       :\"+str(convert_angle(ActualDegrees[0])[0])+\"°  \"+str(ActualDegrees[1])+\"′ \"+str(ActualDegrees[2])+\"″ \")\n",
    "\n",
    "    \n",
    "#Calculating Ascendant\n",
    "print()\n",
    "\n",
    "ascDeg = swe.houses_ex(dtR[0], kkd[0], kkd[1], str.encode('A'), flag = swe.FLG_SWIEPH | swe.FLG_SIDEREAL | swe.FLG_SPEED)\n",
    "#print(ascDeg)\n",
    "#print(decdeg2dms(ascDeg[0][0])[0])\n",
    "DeG = decdeg2dms(convert_angle(ascDeg[0][0])[0])\n",
    "print(convert_angle(ascDeg[0][0])[1]+\" Ascendant:\"+str(DeG[0])+\"° \"+str(DeG[1])+\"′ \"+str(DeG[2])+\"″\")\n",
    "\n"
   ]
  }
 ],
 "metadata": {
  "kernelspec": {
   "display_name": "Python 3",
   "language": "python",
   "name": "python3"
  },
  "language_info": {
   "codemirror_mode": {
    "name": "ipython",
    "version": 3
   },
   "file_extension": ".py",
   "mimetype": "text/x-python",
   "name": "python",
   "nbconvert_exporter": "python",
   "pygments_lexer": "ipython3",
   "version": "3.5.2"
  }
 },
 "nbformat": 4,
 "nbformat_minor": 0
}
